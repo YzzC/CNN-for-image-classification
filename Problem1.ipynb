{
 "cells": [
  {
   "cell_type": "code",
   "execution_count": 1,
   "metadata": {},
   "outputs": [
    {
     "name": "stderr",
     "output_type": "stream",
     "text": [
      "Using TensorFlow backend.\n"
     ]
    }
   ],
   "source": [
    "import numpy as np\n",
    "import pandas as pd\n",
    "from sklearn.model_selection import train_test_split\n",
    "from keras.utils import np_utils\n",
    "from keras.models import Sequential\n",
    "from keras.layers import Dense\n",
    "from keras.layers import Conv2D\n",
    "from keras.layers import MaxPooling2D\n",
    "from keras.layers import Dropout\n",
    "from keras.layers import Flatten\n",
    "import matplotlib.pyplot as plt\n",
    "\n",
    "\n",
    "import time\n",
    "\n",
    "from keras.datasets import cifar10"
   ]
  },
  {
   "cell_type": "code",
   "execution_count": 2,
   "metadata": {},
   "outputs": [],
   "source": [
    "#download the data\n",
    "(trainX, trainy), (testX, testy) = cifar10.load_data()\n",
    "\n",
    "#X_train and y_train will be used for training\n",
    "X_train80, X_train, y_train80, y_train = train_test_split(trainX, trainy, test_size=0.2, random_state=42)\n",
    "\n",
    "#For test and validation set\n",
    "X_test, X_val, y_test, y_val = train_test_split(testX, testy, test_size=0.5, random_state=42)"
   ]
  },
  {
   "cell_type": "code",
   "execution_count": 3,
   "metadata": {},
   "outputs": [],
   "source": [
    "#plot the accuracy and loss\n",
    "def train_val_plt(history, key1 , key2, name) :\n",
    "    plt.plot(history.history[key1])\n",
    "    plt.plot(history.history[key2])\n",
    "    plt.title(name)\n",
    "    plt.xlabel('epochs')\n",
    "    plt.ylabel('accuarcy')    \n",
    "    X_range = np.arange(0, 5, 1)\n",
    "    plt.xticks(X_range)\n",
    "    plt.legend( ['train', 'validation'], loc = 'upper left')               \n",
    "    plt.show()\n",
    "\n",
    "def loss_plt(history, key1 , key2, name) : \n",
    "    plt.plot(history.history[key1])\n",
    "    plt.plot(history.history[key2])\n",
    "    plt.title(name)\n",
    "    plt.xlabel('epochs')\n",
    "    plt.ylabel('loss')\n",
    "    X_range = np.arange(0, 5, 1)\n",
    "    plt.xticks(X_range)\n",
    "    plt.legend( ['train', 'validation'], loc = 'upper left')           \n",
    "    plt.show()"
   ]
  },
  {
   "cell_type": "markdown",
   "metadata": {},
   "source": [
    "# Data Preprocessing"
   ]
  },
  {
   "cell_type": "code",
   "execution_count": 4,
   "metadata": {},
   "outputs": [],
   "source": [
    "# Data Preprocessing for MLP\n",
    "X_train_normalization = X_train.reshape( len(X_train), 32*32*3 ).astype('float32')\n",
    "X_train_normalization /= 255\n",
    "X_train_normalization.shape\n",
    "\n",
    "X_val_normalization = X_val.reshape( len(X_val), 32*32*3 ).astype('float32')\n",
    "X_val_normalization /= 255\n",
    "\n",
    "X_test_normalization = X_test.reshape( len(X_test), 32*32*3 ).astype('float32')\n",
    "X_test_normalization /= 255\n",
    "\n",
    "#one hot encoding for label\n",
    "y_train_onehot = np_utils.to_categorical(y_train)\n",
    "y_val_onehot = np_utils.to_categorical(y_val)\n",
    "y_test_onehot = np_utils.to_categorical(y_test)\n",
    "\n",
    "#DATA PROCESSING FOR CNN\n",
    "train_CNN, val_CNN, test_CNN = X_train / 255.0, X_val / 255.0, X_test / 255.0"
   ]
  },
  {
   "cell_type": "markdown",
   "metadata": {},
   "source": [
    "# MLP"
   ]
  },
  {
   "cell_type": "code",
   "execution_count": 5,
   "metadata": {},
   "outputs": [],
   "source": [
    "#MLP\n",
    "MLP = Sequential()\n",
    "MLP.add(Dense(input_dim = 32*32*3, units = 512, activation = 'sigmoid'))\n",
    "MLP.add(Dense(units = 512, activation = 'sigmoid'))\n",
    "#output layer\n",
    "MLP.add(Dense(units = 10, activation = 'softmax'))"
   ]
  },
  {
   "cell_type": "code",
   "execution_count": 6,
   "metadata": {},
   "outputs": [
    {
     "name": "stdout",
     "output_type": "stream",
     "text": [
      "Model: \"sequential_1\"\n",
      "_________________________________________________________________\n",
      "Layer (type)                 Output Shape              Param #   \n",
      "=================================================================\n",
      "dense_1 (Dense)              (None, 512)               1573376   \n",
      "_________________________________________________________________\n",
      "dense_2 (Dense)              (None, 512)               262656    \n",
      "_________________________________________________________________\n",
      "dense_3 (Dense)              (None, 10)                5130      \n",
      "=================================================================\n",
      "Total params: 1,841,162\n",
      "Trainable params: 1,841,162\n",
      "Non-trainable params: 0\n",
      "_________________________________________________________________\n"
     ]
    }
   ],
   "source": [
    "MLP.summary()"
   ]
  },
  {
   "cell_type": "code",
   "execution_count": 7,
   "metadata": {},
   "outputs": [
    {
     "name": "stdout",
     "output_type": "stream",
     "text": [
      "Train on 10000 samples, validate on 5000 samples\n",
      "Epoch 1/5\n",
      " - 4s - loss: 2.0472 - accuracy: 0.2394 - val_loss: 1.9715 - val_accuracy: 0.2886\n",
      "Epoch 2/5\n",
      " - 4s - loss: 1.8936 - accuracy: 0.3067 - val_loss: 1.8084 - val_accuracy: 0.3460\n",
      "Epoch 3/5\n",
      " - 4s - loss: 1.8182 - accuracy: 0.3357 - val_loss: 1.8499 - val_accuracy: 0.3358\n",
      "Epoch 4/5\n",
      " - 4s - loss: 1.7848 - accuracy: 0.3532 - val_loss: 1.8158 - val_accuracy: 0.3460\n",
      "Epoch 5/5\n",
      " - 4s - loss: 1.7575 - accuracy: 0.3586 - val_loss: 1.8241 - val_accuracy: 0.3252\n"
     ]
    }
   ],
   "source": [
    "#compile the model\n",
    "MLP.compile(loss='categorical_crossentropy', optimizer='adam', metrics=['accuracy'])  \n",
    "#fit the model\n",
    "history = MLP.fit(x = X_train_normalization, \n",
    "                  y = y_train_onehot, \n",
    "                  validation_data = (X_val_normalization, y_val_onehot), \n",
    "                  epochs=5, \n",
    "                  batch_size=32, \n",
    "                  verbose=2)  "
   ]
  },
  {
   "cell_type": "code",
   "execution_count": 8,
   "metadata": {},
   "outputs": [
    {
     "data": {
      "image/png": "[encoded data removed]",
      "text/plain": [
       "<Figure size 432x288 with 1 Axes>"
      ]
     },
     "metadata": {
      "needs_background": "light"
     },
     "output_type": "display_data"
    },
    {
     "data": {
      "image/png": "[encoded data removed]",
      "text/plain": [
       "<Figure size 432x288 with 1 Axes>"
      ]
     },
     "metadata": {
      "needs_background": "light"
     },
     "output_type": "display_data"
    }
   ],
   "source": [
    "train_val_plt( history, 'accuracy', 'val_accuracy','MLP acc')\n",
    "loss_plt( history, 'loss', 'val_loss','MLP loss')"
   ]
  },
  {
   "cell_type": "code",
   "execution_count": 9,
   "metadata": {},
   "outputs": [],
   "source": [
    "# change MLP's the number of layer and the number of neurons as required in this problem\n",
    "\n",
    "\n",
    "# #MLP\n",
    "# MLP1 = Sequential()\n",
    "# MLP1.add(Dense(input_dim = 32*32*3, units = 512, activation = 'sigmoid'))\n",
    "# MLP1.add(Dense(units = 512, activation = 'sigmoid'))\n",
    "# MLP1.add(Dense(units = 512, activation = 'sigmoid'))\n",
    "# #output layer\n",
    "# MLP1.add(Dense(units = 10, activation = 'softmax'))\n",
    "\n",
    "# MLP1.summary()\n",
    "\n",
    "# MLP1.compile(loss='categorical_crossentropy', optimizer='adam', metrics=['accuracy']) \n",
    "\n",
    "# history1 = MLP1.fit(x = X_train_normalization, \n",
    "#                   y = y_train_onehot, \n",
    "#                   validation_data = (X_val_normalization, y_val_onehot), \n",
    "#                   epochs=5, \n",
    "#                   batch_size=32, \n",
    "#                   verbose=2)  \n",
    "\n",
    "# train_val_plt( history1, 'accuracy', 'val_accuracy','MLP acc')\n",
    "\n",
    "#==============================================\n",
    "# #MLP\n",
    "# MLP2 = Sequential()\n",
    "# MLP2.add(Dense(input_dim = 32*32*3, units = 512, activation = 'sigmoid'))\n",
    "# MLP2.add(Dense(units = 256, activation = 'sigmoid'))\n",
    "# #output layer\n",
    "# MLP2.add(Dense(units = 10, activation = 'softmax'))\n",
    "\n",
    "# MLP2.summary()\n",
    "\n",
    "# MLP2.compile(loss='categorical_crossentropy', optimizer='adam', metrics=['accuracy']) \n",
    "\n",
    "# history2 = MLP2.fit(x = X_train_normalization, \n",
    "#                   y = y_train_onehot, \n",
    "#                   validation_data = (X_val_normalization, y_val_onehot), \n",
    "#                   epochs=5, \n",
    "#                   batch_size=32, \n",
    "#                   verbose=2)  \n",
    "\n",
    "# train_val_plt( history2, 'accuracy', 'val_accuracy','MLP acc')\n",
    "\n",
    "#==============================================\n",
    "# #MLP\n",
    "# MLP3 = Sequential()\n",
    "# MLP3.add(Dense(input_dim = 32*32*3, units = 512, activation = 'sigmoid'))\n",
    "# MLP3.add(Dense(units = 512, activation = 'sigmoid'))\n",
    "# MLP3.add(Dense(units = 256, activation = 'sigmoid'))\n",
    "# #output layer\n",
    "# MLP3.add(Dense(units = 10, activation = 'softmax'))\n",
    "\n",
    "# MLP3.summary()\n",
    "\n",
    "# MLP3.compile(loss='categorical_crossentropy', optimizer='adam', metrics=['accuracy']) \n",
    "\n",
    "# history3 = MLP3.fit(x = X_train_normalization, \n",
    "#                   y = y_train_onehot, \n",
    "#                   validation_data = (X_val_normalization, y_val_onehot), \n",
    "#                   epochs=5, \n",
    "#                   batch_size=32, \n",
    "#                   verbose=2)  \n",
    "\n",
    "# train_val_plt( history3, 'accuracy', 'val_accuracy','MLP acc')\n",
    "\n",
    "#==============================================\n",
    "# #MLP\n",
    "# MLP4 = Sequential()\n",
    "# MLP4.add(Dense(input_dim = 32*32*3, units = 512, activation = 'sigmoid'))\n",
    "# MLP4.add(Dense(units = 512, activation = 'sigmoid'))\n",
    "# MLP4.add(Dense(units = 256, activation = 'sigmoid'))\n",
    "# MLP4.add(Dense(units = 256, activation = 'sigmoid'))\n",
    "# #output layer\n",
    "# MLP4.add(Dense(units = 10, activation = 'softmax'))\n",
    "\n",
    "# MLP4.summary()\n",
    "\n",
    "# MLP4.compile(loss='categorical_crossentropy', optimizer='adam', metrics=['accuracy']) \n",
    "\n",
    "# history4 = MLP4.fit(x = X_train_normalization, \n",
    "#                   y = y_train_onehot, \n",
    "#                   validation_data = (X_val_normalization, y_val_onehot), \n",
    "#                   epochs=5, \n",
    "#                   batch_size=32, \n",
    "#                   verbose=2)  \n",
    "\n",
    "# train_val_plt( history4, 'accuracy', 'val_accuracy','MLP acc')\n",
    "\n",
    "#==============================================\n",
    "# #MLP\n",
    "# MLP5 = Sequential()\n",
    "# MLP5.add(Dense(input_dim = 32*32*3, units = 512, activation = 'sigmoid'))\n",
    "# MLP5.add(Dense(units = 512, activation = 'sigmoid'))\n",
    "# MLP5.add(Dense(units = 256, activation = 'sigmoid'))\n",
    "# MLP5.add(Dense(units = 128, activation = 'sigmoid'))\n",
    "# #output layer\n",
    "# MLP5.add(Dense(units = 10, activation = 'softmax'))\n",
    "\n",
    "# MLP5.summary()\n",
    "\n",
    "# MLP5.compile(loss='categorical_crossentropy', optimizer='adam', metrics=['accuracy']) \n",
    "\n",
    "# history5 = MLP5.fit(x = X_train_normalization, \n",
    "#                   y = y_train_onehot, \n",
    "#                   validation_data = (X_val_normalization, y_val_onehot), \n",
    "#                   epochs=5, \n",
    "#                   batch_size=32, \n",
    "#                   verbose=2)  \n",
    "\n",
    "# train_val_plt( history5, 'accuracy', 'val_accuracy','MLP acc')"
   ]
  },
  {
   "cell_type": "code",
   "execution_count": 10,
   "metadata": {},
   "outputs": [
    {
     "name": "stdout",
     "output_type": "stream",
     "text": [
      "5000/5000 [==============================] - 0s 72us/step\n",
      "Test_loss = 1.8106987216949464\n",
      "Test_accuracy = 0.33160001039505005\n"
     ]
    }
   ],
   "source": [
    "#evaluate the model\n",
    "eval_MLP = MLP.evaluate(X_test_normalization, y_test_onehot)\n",
    "print('Test_loss =', eval_MLP[0])\n",
    "print('Test_accuracy =', eval_MLP[1])"
   ]
  },
  {
   "cell_type": "markdown",
   "metadata": {},
   "source": [
    "# CNN1"
   ]
  },
  {
   "cell_type": "code",
   "execution_count": 11,
   "metadata": {},
   "outputs": [],
   "source": [
    "#CNN1\n",
    "CNN1 = Sequential()\n",
    "CNN1.add(Conv2D(64, (3, 3), padding = 'same', activation='relu', input_shape=(32, 32, 3))) \n",
    "CNN1.add(Conv2D(64, (3, 3), padding = 'same', activation='relu'))\n",
    "CNN1.add(Flatten())\n",
    "CNN1.add(Dense(512, activation='sigmoid')) \n",
    "CNN1.add(Dense(512, activation='sigmoid')) \n",
    "CNN1.add(Dense(10,activation = 'softmax'))"
   ]
  },
  {
   "cell_type": "code",
   "execution_count": 12,
   "metadata": {},
   "outputs": [
    {
     "name": "stdout",
     "output_type": "stream",
     "text": [
      "Model: \"sequential_2\"\n",
      "_________________________________________________________________\n",
      "Layer (type)                 Output Shape              Param #   \n",
      "=================================================================\n",
      "conv2d_1 (Conv2D)            (None, 32, 32, 64)        1792      \n",
      "_________________________________________________________________\n",
      "conv2d_2 (Conv2D)            (None, 32, 32, 64)        36928     \n",
      "_________________________________________________________________\n",
      "flatten_1 (Flatten)          (None, 65536)             0         \n",
      "_________________________________________________________________\n",
      "dense_4 (Dense)              (None, 512)               33554944  \n",
      "_________________________________________________________________\n",
      "dense_5 (Dense)              (None, 512)               262656    \n",
      "_________________________________________________________________\n",
      "dense_6 (Dense)              (None, 10)                5130      \n",
      "=================================================================\n",
      "Total params: 33,861,450\n",
      "Trainable params: 33,861,450\n",
      "Non-trainable params: 0\n",
      "_________________________________________________________________\n"
     ]
    }
   ],
   "source": [
    "CNN1.summary()"
   ]
  },
  {
   "cell_type": "code",
   "execution_count": 13,
   "metadata": {},
   "outputs": [
    {
     "name": "stdout",
     "output_type": "stream",
     "text": [
      "Train on 10000 samples, validate on 5000 samples\n",
      "Epoch 1/5\n",
      "10000/10000 [==============================] - 133s 13ms/step - loss: 1.7819 - accuracy: 0.3394 - val_loss: 1.5281 - val_accuracy: 0.4378\n",
      "Epoch 2/5\n",
      "10000/10000 [==============================] - 134s 13ms/step - loss: 1.3078 - accuracy: 0.5307 - val_loss: 1.3764 - val_accuracy: 0.5002\n",
      "Epoch 3/5\n",
      "10000/10000 [==============================] - 133s 13ms/step - loss: 0.9365 - accuracy: 0.6706 - val_loss: 1.3363 - val_accuracy: 0.5370\n",
      "Epoch 4/5\n",
      "10000/10000 [==============================] - 133s 13ms/step - loss: 0.4979 - accuracy: 0.8374 - val_loss: 1.4758 - val_accuracy: 0.5396\n",
      "Epoch 5/5\n",
      "10000/10000 [==============================] - 133s 13ms/step - loss: 0.1712 - accuracy: 0.9568 - val_loss: 1.5496 - val_accuracy: 0.5608\n",
      "Training_time: 665.8078038692474\n"
     ]
    }
   ],
   "source": [
    "#compile the model\n",
    "CNN1.compile(loss='categorical_crossentropy', optimizer='adam', metrics=['accuracy'])  \n",
    "#fit the model\n",
    "start_time = time.time()\n",
    "history_CNN1 = CNN1.fit(x = train_CNN, \n",
    "                        y = y_train_onehot, \n",
    "                        validation_data = (val_CNN, y_val_onehot), \n",
    "                        epochs=5, \n",
    "                        batch_size=32)\n",
    "end_time = time.time()\n",
    "print('Training_time: ' + str(end_time - start_time))"
   ]
  },
  {
   "cell_type": "code",
   "execution_count": 14,
   "metadata": {},
   "outputs": [
    {
     "data": {
      "image/png": "[encoded data removed]",
      "text/plain": [
       "<Figure size 432x288 with 1 Axes>"
      ]
     },
     "metadata": {
      "needs_background": "light"
     },
     "output_type": "display_data"
    },
    {
     "data": {
      "image/png": "[encoded data removed]",
      "text/plain": [
       "<Figure size 432x288 with 1 Axes>"
      ]
     },
     "metadata": {
      "needs_background": "light"
     },
     "output_type": "display_data"
    }
   ],
   "source": [
    "train_val_plt( history_CNN1, 'accuracy', 'val_accuracy','CNN1 acc')\n",
    "loss_plt( history_CNN1, 'loss', 'val_loss','CNN1 loss')"
   ]
  },
  {
   "cell_type": "code",
   "execution_count": 15,
   "metadata": {},
   "outputs": [
    {
     "name": "stdout",
     "output_type": "stream",
     "text": [
      "5000/5000 [==============================] - 5s 917us/step\n",
      "Test_loss = 1.5682392566680907\n",
      "Test_accuracy = 0.5663999915122986\n"
     ]
    }
   ],
   "source": [
    "#evaluate the model\n",
    "eval_CNN1 = CNN1.evaluate(test_CNN, y_test_onehot)\n",
    "print('Test_loss =', eval_CNN1[0])\n",
    "print('Test_accuracy =', eval_CNN1[1])"
   ]
  },
  {
   "cell_type": "markdown",
   "metadata": {},
   "source": [
    "# CNN2"
   ]
  },
  {
   "cell_type": "code",
   "execution_count": 16,
   "metadata": {},
   "outputs": [],
   "source": [
    "#CNN2\n",
    "CNN2 = Sequential()\n",
    "CNN2.add(Conv2D(64, (3, 3), padding = 'same', activation='relu', input_shape=(32, 32, 3))) \n",
    "CNN2.add(MaxPooling2D((2, 2)))\n",
    "CNN2.add(Conv2D(64, (3, 3), padding = 'same', activation='relu', input_shape=(32, 32, 3)))\n",
    "CNN2.add(MaxPooling2D((2, 2)))\n",
    "CNN2.add(Flatten())\n",
    "CNN2.add(Dense(512, activation='sigmoid')) \n",
    "CNN2.add(Dropout(0.2))\n",
    "CNN2.add(Dense(512, activation='sigmoid')) \n",
    "CNN2.add(Dropout(0.2))\n",
    "CNN2.add(Dense(10,activation = 'softmax'))"
   ]
  },
  {
   "cell_type": "code",
   "execution_count": 17,
   "metadata": {},
   "outputs": [
    {
     "name": "stdout",
     "output_type": "stream",
     "text": [
      "Model: \"sequential_3\"\n",
      "_________________________________________________________________\n",
      "Layer (type)                 Output Shape              Param #   \n",
      "=================================================================\n",
      "conv2d_3 (Conv2D)            (None, 32, 32, 64)        1792      \n",
      "_________________________________________________________________\n",
      "max_pooling2d_1 (MaxPooling2 (None, 16, 16, 64)        0         \n",
      "_________________________________________________________________\n",
      "conv2d_4 (Conv2D)            (None, 16, 16, 64)        36928     \n",
      "_________________________________________________________________\n",
      "max_pooling2d_2 (MaxPooling2 (None, 8, 8, 64)          0         \n",
      "_________________________________________________________________\n",
      "flatten_2 (Flatten)          (None, 4096)              0         \n",
      "_________________________________________________________________\n",
      "dense_7 (Dense)              (None, 512)               2097664   \n",
      "_________________________________________________________________\n",
      "dropout_1 (Dropout)          (None, 512)               0         \n",
      "_________________________________________________________________\n",
      "dense_8 (Dense)              (None, 512)               262656    \n",
      "_________________________________________________________________\n",
      "dropout_2 (Dropout)          (None, 512)               0         \n",
      "_________________________________________________________________\n",
      "dense_9 (Dense)              (None, 10)                5130      \n",
      "=================================================================\n",
      "Total params: 2,404,170\n",
      "Trainable params: 2,404,170\n",
      "Non-trainable params: 0\n",
      "_________________________________________________________________\n"
     ]
    }
   ],
   "source": [
    "CNN2.summary()"
   ]
  },
  {
   "cell_type": "code",
   "execution_count": 18,
   "metadata": {},
   "outputs": [
    {
     "name": "stdout",
     "output_type": "stream",
     "text": [
      "Train on 10000 samples, validate on 5000 samples\n",
      "Epoch 1/5\n",
      "10000/10000 [==============================] - 17s 2ms/step - loss: 2.0336 - accuracy: 0.2438 - val_loss: 1.7782 - val_accuracy: 0.3578\n",
      "Epoch 2/5\n",
      "10000/10000 [==============================] - 17s 2ms/step - loss: 1.5912 - accuracy: 0.4110 - val_loss: 1.4902 - val_accuracy: 0.4530\n",
      "Epoch 3/5\n",
      "10000/10000 [==============================] - 18s 2ms/step - loss: 1.4033 - accuracy: 0.4923 - val_loss: 1.3524 - val_accuracy: 0.5076\n",
      "Epoch 4/5\n",
      "10000/10000 [==============================] - 18s 2ms/step - loss: 1.2600 - accuracy: 0.5491 - val_loss: 1.2471 - val_accuracy: 0.5518\n",
      "Epoch 5/5\n",
      "10000/10000 [==============================] - 18s 2ms/step - loss: 1.1306 - accuracy: 0.6013 - val_loss: 1.2168 - val_accuracy: 0.5636\n",
      "Training_time: 88.57905578613281\n"
     ]
    }
   ],
   "source": [
    "#compile the model\n",
    "CNN2.compile(loss='categorical_crossentropy', optimizer='adam', metrics=['accuracy'])  \n",
    "#fit the model\n",
    "start_time = time.time()\n",
    "history_CNN2 = CNN2.fit(x = train_CNN, \n",
    "                  y = y_train_onehot, \n",
    "                  validation_data = (val_CNN, y_val_onehot), \n",
    "                  epochs=5, \n",
    "                  batch_size=32) \n",
    "end_time = time.time()\n",
    "print('Training_time: ' + str(end_time - start_time))"
   ]
  },
  {
   "cell_type": "code",
   "execution_count": null,
   "metadata": {},
   "outputs": [],
   "source": [
    "train_val_plt(history_CNN2, 'accuracy', 'val_accuracy','CNN2 acc')\n",
    "loss_plt( history_CNN2, 'loss', 'val_loss','CNN2 loss')"
   ]
  },
  {
   "cell_type": "code",
   "execution_count": null,
   "metadata": {},
   "outputs": [],
   "source": [
    "#evaluate the model\n",
    "eval_CNN2 = CNN2.evaluate(test_CNN, y_test_onehot)\n",
    "print( 'Test_loss =', eval_CNN2[0] )\n",
    "print( 'Test_accuracy =', eval_CNN2[1] )"
   ]
  }
 ],
 "metadata": {
  "kernelspec": {
   "display_name": "Python 3",
   "language": "python",
   "name": "python3"
  },
  "language_info": {
   "codemirror_mode": {
    "name": "ipython",
    "version": 3
   },
   "file_extension": ".py",
   "mimetype": "text/x-python",
   "name": "python",
   "nbconvert_exporter": "python",
   "pygments_lexer": "ipython3",
   "version": "3.7.4"
  }
 },
 "nbformat": 4,
 "nbformat_minor": 2
}
